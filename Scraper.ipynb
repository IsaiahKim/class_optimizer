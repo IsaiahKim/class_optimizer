{
 "cells": [
  {
   "cell_type": "code",
   "execution_count": 143,
   "metadata": {},
   "outputs": [],
   "source": [
    "from tabula import read_pdf\n",
    "from os import path\n",
    "from glob import glob \n",
    "\n",
    "class_count = 100\n",
    "class_dict = {}"
   ]
  },
  {
   "cell_type": "code",
   "execution_count": 144,
   "metadata": {},
   "outputs": [],
   "source": [
    "birds = glob(path.join('.',\"*.{}\".format('pdf')))"
   ]
  },
  {
   "cell_type": "code",
   "execution_count": 145,
   "metadata": {},
   "outputs": [],
   "source": [
    "def scrape_pdf(req):\n",
    "\tcatalog = read_pdf(req, pages=\"1\")\n",
    "\tfor i in range(2, len(catalog)):\n",
    "\t\ttag = catalog['Unnamed: 0'][i] + catalog['Unnamed: 1'][i]\n",
    "\t\tif tag not in class_dict:\n",
    "\t\t\tclass_dict[tag] = req[:-4]\n",
    "\t\telse:\n",
    "\t\t\tclass_dict[tag] = class_dict.get(tag) + \", \" + req[:-4]"
   ]
  },
  {
   "cell_type": "code",
   "execution_count": 146,
   "metadata": {},
   "outputs": [],
   "source": [
    "for bird in birds:\n",
    "\tscrape_pdf(bird[2:])"
   ]
  },
  {
   "cell_type": "code",
   "execution_count": 147,
   "metadata": {},
   "outputs": [
    {
     "name": "stdout",
     "output_type": "stream",
     "text": [
      "Class: FYSM1000 | Requirements Met: Diversity-American, Diversity-Global\n",
      "Class: ETHN3136 | Requirements Met: Diversity-American\n",
      "Class: HONR4025 | Requirements Met: Diversity-American\n",
      "Class: FILM3013 | Requirements Met: Diversity-American\n",
      "Class: ENGL1800 | Requirements Met: Diversity-American\n",
      "Class: ANTH3760 | Requirements Met: Diversity-Global\n",
      "Class: GRMN3601 | Requirements Met: Diversity-Global\n",
      "Class: ARAB2320 | Requirements Met: Diversity-Global\n",
      "Class: COMM2400 | Requirements Met: Diversity-American\n",
      "Class: ANTH1105 | Requirements Met: Diversity-Global\n",
      "Class: ENGL4677 | Requirements Met: Diversity-American\n",
      "Class: ETHN2432 | Requirements Met: Diversity-American\n",
      "Class: ETHN2536 | Requirements Met: Diversity-American\n",
      "Class: ANTH1120 | Requirements Met: Diversity-American\n",
      "Class: ARTH3209 | Requirements Met: Diversity-Global\n",
      "Class: GRMN3501 | Requirements Met: Diversity-Global\n",
      "Class: ANTH1100 | Requirements Met: Diversity-Global\n",
      "Class: CLAS4269 | Requirements Met: Diversity-Global\n",
      "Class: ANTH1150 | Requirements Met: Diversity-Global\n",
      "Class: EDUC3013 | Requirements Met: Diversity-American\n",
      "Class: ENGL1260 | Requirements Met: Diversity-Global\n",
      "Class: ETHN2232 | Requirements Met: Diversity-American\n",
      "Class: FREN1750 | Requirements Met: Diversity-Global\n",
      "Class: ARTH2029 | Requirements Met: Diversity-Global\n",
      "Class: ETHN1022 | Requirements Met: Diversity-Global\n",
      "Class: ARTH4769 | Requirements Met: Diversity-Global\n",
      "Class: ETHN2013 | Requirements Met: Diversity-American\n",
      "Class: GEOG3822 | Requirements Met: Diversity-Global\n",
      "Class: CLAS2110 | Requirements Met: Diversity-Global\n",
      "Class: ETHN1023 | Requirements Met: Diversity-American\n",
      "Class: ARAB1011 | Requirements Met: Diversity-Global\n",
      "Class: GSLL2350 | Requirements Met: Diversity-American\n",
      "Class: EDUC2919 | Requirements Met: Diversity-American\n",
      "Class: ANTH1140 | Requirements Met: Diversity-Global\n",
      "Class: ANTH1155 | Requirements Met: Diversity-Global\n",
      "Class: ANTH1145 | Requirements Met: Diversity-Global\n",
      "Class: ECON4626 | Requirements Met: Diversity-American\n",
      "Class: FREN3800 | Requirements Met: Diversity-Global\n",
      "Class: ETHN3213 | Requirements Met: Diversity-American\n",
      "Class: COMM3410 | Requirements Met: Diversity-Global\n",
      "Class: ANTH1115 | Requirements Met: Diversity-Global\n",
      "Class: HONR3270 | Requirements Met: Diversity-American\n",
      "Class: ETHN1123 | Requirements Met: Diversity-American\n",
      "Class: ETHN2242 | Requirements Met: Diversity-American\n",
      "Class: ETHN1025 | Requirements Met: Diversity-American\n",
      "Class: GEOG3672 | Requirements Met: Diversity-Global\n",
      "Class: CLAS2100 | Requirements Met: Diversity-Global\n",
      "Class: ANTH1125 | Requirements Met: Diversity-American\n",
      "Class: ANTH1170 | Requirements Met: Diversity-Global\n",
      "Class: FREN3400 | Requirements Met: Diversity-Global\n",
      "Class: CLAS2029 | Requirements Met: Diversity-Global\n",
      "Class: HIST2437 | Requirements Met: Diversity-American\n",
      "Class: FREN1400 | Requirements Met: Diversity-Global\n",
      "Class: HUMN2145 | Requirements Met: Diversity-American\n",
      "Class: GSLL3600 | Requirements Met: Diversity-American\n",
      "Class: CLAS1509 | Requirements Met: Diversity-Global\n",
      "Class: CHIN1012 | Requirements Met: Diversity-Global\n",
      "Class: ETHN2546 | Requirements Met: Diversity-American\n",
      "Class: FREN1950 | Requirements Met: Diversity-Global\n",
      "Class: ARTH1509 | Requirements Met: Diversity-Global\n",
      "Class: HONR3004 | Requirements Met: Diversity-American\n",
      "Class: HONR1810 | Requirements Met: Diversity-American\n",
      "Class: ARTH4269 | Requirements Met: Diversity-Global\n",
      "Class: ANTH2100 | Requirements Met: Diversity-Global\n",
      "Class: ETHN2215 | Requirements Met: Diversity-American\n",
      "Class: ETHN2703 | Requirements Met: Diversity-American\n",
      "Class: HIST2616 | Requirements Met: Diversity-American\n",
      "Class: ARSC3001 | Requirements Met: Diversity-Global\n",
      "Class: ASIA2000 | Requirements Met: Diversity-Global\n",
      "Class: ETHN3671 | Requirements Met: Diversity-American\n",
      "Class: ETHN3201 | Requirements Met: Diversity-American\n",
      "Class: ASTR2000 | Requirements Met: Diversity-Global\n"
     ]
    }
   ],
   "source": [
    "listed = 0\n",
    "for stone in sorted(class_dict, key=lambda stone:len(class_dict[stone].split()), reverse=True):\n",
    "\tif listed < class_count:\n",
    "\t\tprint(\"Class: \" + stone + \" | Requirements Met: \" + class_dict[stone])\n",
    "\t\tlisted += 1\n",
    "\telse:\n",
    "\t\tbreak"
   ]
  },
  {
   "cell_type": "code",
   "execution_count": null,
   "metadata": {},
   "outputs": [],
   "source": []
  }
 ],
 "metadata": {
  "kernelspec": {
   "display_name": "Python 3",
   "language": "python",
   "name": "python3"
  },
  "language_info": {
   "codemirror_mode": {
    "name": "ipython",
    "version": 3
   },
   "file_extension": ".py",
   "mimetype": "text/x-python",
   "name": "python",
   "nbconvert_exporter": "python",
   "pygments_lexer": "ipython3",
   "version": "3.5.5"
  }
 },
 "nbformat": 4,
 "nbformat_minor": 2
}
